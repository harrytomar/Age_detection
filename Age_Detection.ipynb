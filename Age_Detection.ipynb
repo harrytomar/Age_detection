{
 "cells": [
  {
   "cell_type": "code",
   "execution_count": null,
   "metadata": {},
   "outputs": [
    {
     "name": "stdout",
     "output_type": "stream",
     "text": [
      "Collecting tensorflow\n",
      "  Downloading tensorflow-2.1.0-cp37-cp37m-manylinux2010_x86_64.whl (421.8 MB)\n",
      "\u001b[K     |███▊                            | 49.8 MB 2.0 MB/s eta 0:03:03    |                                | 819 kB 938 kB/s eta 0:07:29     |▏                               | 2.9 MB 938 kB/s eta 0:07:27     |▌                               | 6.5 MB 4.4 MB/s eta 0:01:34     |▉                               | 11.2 MB 4.4 MB/s eta 0:01:33     |█▍                              | 19.0 MB 2.7 MB/s eta 0:02:30     |██▎                             | 29.7 MB 2.4 MB/s eta 0:02:43     |██▎                             | 30.2 MB 2.4 MB/s eta 0:02:43     |██▌                             | 32.8 MB 3.0 MB/s eta 0:02:11"
     ]
    }
   ],
   "source": [
    "!pip install tensorflow\n"
   ]
  },
  {
   "cell_type": "code",
   "execution_count": null,
   "metadata": {},
   "outputs": [],
   "source": []
  }
 ],
 "metadata": {
  "kernelspec": {
   "display_name": "Python 3",
   "language": "python",
   "name": "python3"
  },
  "language_info": {
   "codemirror_mode": {
    "name": "ipython",
    "version": 3
   },
   "file_extension": ".py",
   "mimetype": "text/x-python",
   "name": "python",
   "nbconvert_exporter": "python",
   "pygments_lexer": "ipython3",
   "version": "3.7.3"
  }
 },
 "nbformat": 4,
 "nbformat_minor": 4
}

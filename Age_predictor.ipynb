{
 "cells": [
  {
   "cell_type": "code",
   "execution_count": 1,
   "metadata": {},
   "outputs": [],
   "source": [
    "import pandas as pd"
   ]
  },
  {
   "cell_type": "code",
   "execution_count": 3,
   "metadata": {},
   "outputs": [],
   "source": [
    "df_train = pd.read_csv('train_age/train.csv')"
   ]
  },
  {
   "cell_type": "code",
   "execution_count": 4,
   "metadata": {},
   "outputs": [
    {
     "data": {
      "text/html": [
       "<div>\n",
       "<style scoped>\n",
       "    .dataframe tbody tr th:only-of-type {\n",
       "        vertical-align: middle;\n",
       "    }\n",
       "\n",
       "    .dataframe tbody tr th {\n",
       "        vertical-align: top;\n",
       "    }\n",
       "\n",
       "    .dataframe thead th {\n",
       "        text-align: right;\n",
       "    }\n",
       "</style>\n",
       "<table border=\"1\" class=\"dataframe\">\n",
       "  <thead>\n",
       "    <tr style=\"text-align: right;\">\n",
       "      <th></th>\n",
       "      <th>ID</th>\n",
       "      <th>Class</th>\n",
       "    </tr>\n",
       "  </thead>\n",
       "  <tbody>\n",
       "    <tr>\n",
       "      <th>0</th>\n",
       "      <td>377.jpg</td>\n",
       "      <td>MIDDLE</td>\n",
       "    </tr>\n",
       "    <tr>\n",
       "      <th>1</th>\n",
       "      <td>17814.jpg</td>\n",
       "      <td>YOUNG</td>\n",
       "    </tr>\n",
       "    <tr>\n",
       "      <th>2</th>\n",
       "      <td>21283.jpg</td>\n",
       "      <td>MIDDLE</td>\n",
       "    </tr>\n",
       "    <tr>\n",
       "      <th>3</th>\n",
       "      <td>16496.jpg</td>\n",
       "      <td>YOUNG</td>\n",
       "    </tr>\n",
       "  </tbody>\n",
       "</table>\n",
       "</div>"
      ],
      "text/plain": [
       "          ID   Class\n",
       "0    377.jpg  MIDDLE\n",
       "1  17814.jpg   YOUNG\n",
       "2  21283.jpg  MIDDLE\n",
       "3  16496.jpg   YOUNG"
      ]
     },
     "execution_count": 4,
     "metadata": {},
     "output_type": "execute_result"
    }
   ],
   "source": [
    "df_train.head(4)"
   ]
  },
  {
   "cell_type": "code",
   "execution_count": 5,
   "metadata": {},
   "outputs": [
    {
     "name": "stderr",
     "output_type": "stream",
     "text": [
      "Using TensorFlow backend.\n"
     ]
    }
   ],
   "source": [
    "from keras.preprocessing import image"
   ]
  },
  {
   "cell_type": "code",
   "execution_count": 6,
   "metadata": {},
   "outputs": [],
   "source": [
    "from tqdm import tqdm"
   ]
  },
  {
   "cell_type": "code",
   "execution_count": 7,
   "metadata": {},
   "outputs": [
    {
     "name": "stderr",
     "output_type": "stream",
     "text": [
      "  0%|          | 0/19906 [00:00<?, ?it/s]/home/harish/my_project_dir/my_project_env/lib/python3.7/site-packages/keras_preprocessing/image/utils.py:104: UserWarning: grayscale is deprecated. Please use color_mode = \"grayscale\"\n",
      "  warnings.warn('grayscale is deprecated. Please use '\n",
      "100%|██████████| 19906/19906 [03:34<00:00, 92.68it/s] \n"
     ]
    }
   ],
   "source": [
    "\n",
    "\n",
    "import numpy as np\n",
    "train_image = []\n",
    "for i in tqdm(range(df_train.shape[0])):\n",
    "  img = image.load_img('train_age/Train/' + df_train['ID'][i] , target_size = (28,28,1),grayscale = True)\n",
    "  img = image.img_to_array(img)\n",
    "  img = img/255\n",
    "  train_image.append(img)\n",
    "X = np.array(train_image)"
   ]
  },
  {
   "cell_type": "code",
   "execution_count": 24,
   "metadata": {},
   "outputs": [],
   "source": [
    "res = X.tolist()"
   ]
  },
  {
   "cell_type": "code",
   "execution_count": 25,
   "metadata": {},
   "outputs": [],
   "source": [
    "df_train['Images_id'] = res"
   ]
  },
  {
   "cell_type": "code",
   "execution_count": 26,
   "metadata": {},
   "outputs": [],
   "source": [
    "from keras.utils import to_categorical"
   ]
  },
  {
   "cell_type": "code",
   "execution_count": 27,
   "metadata": {},
   "outputs": [],
   "source": [
    "from sklearn.model_selection import train_test_split"
   ]
  },
  {
   "cell_type": "code",
   "execution_count": 28,
   "metadata": {},
   "outputs": [],
   "source": [
    "from sklearn.preprocessing import LabelEncoder\n",
    "le = LabelEncoder()"
   ]
  },
  {
   "cell_type": "code",
   "execution_count": 29,
   "metadata": {},
   "outputs": [],
   "source": [
    "df_train['Class'] = le.fit_transform(df_train['Class'])"
   ]
  },
  {
   "cell_type": "code",
   "execution_count": 32,
   "metadata": {},
   "outputs": [],
   "source": [
    "y=df_train['Class'].values\n",
    "y = to_categorical(y)"
   ]
  },
  {
   "cell_type": "code",
   "execution_count": 33,
   "metadata": {},
   "outputs": [
    {
     "data": {
      "text/plain": [
       "ID           object\n",
       "Class         int64\n",
       "Images_id    object\n",
       "dtype: object"
      ]
     },
     "execution_count": 33,
     "metadata": {},
     "output_type": "execute_result"
    }
   ],
   "source": [
    "df_train.dtypes"
   ]
  },
  {
   "cell_type": "code",
   "execution_count": 34,
   "metadata": {},
   "outputs": [],
   "source": [
    "from keras.models import Sequential\n",
    "from keras.layers import Dense, Dropout, Flatten\n",
    "from keras.layers import Conv2D, MaxPooling2D\n",
    "model = Sequential()\n",
    "model.add(Conv2D(32, kernel_size=(3, 3),activation='relu',input_shape=(28,28,1)))\n",
    "model.add(Conv2D(64, (3, 3), activation='relu'))\n",
    "model.add(MaxPooling2D(pool_size=(2, 2)))\n",
    "model.add(Dropout(0.25))\n",
    "model.add(Flatten())\n",
    "model.add(Dense(128, activation='relu'))\n",
    "model.add(Dropout(0.5))\n",
    "model.add(Dense(3, activation='softmax'))"
   ]
  },
  {
   "cell_type": "code",
   "execution_count": 35,
   "metadata": {},
   "outputs": [],
   "source": [
    "model.compile(loss='categorical_crossentropy',optimizer='Adam',metrics=['accuracy'])"
   ]
  },
  {
   "cell_type": "code",
   "execution_count": 37,
   "metadata": {},
   "outputs": [
    {
     "name": "stdout",
     "output_type": "stream",
     "text": [
      "Train on 15924 samples, validate on 3982 samples\n",
      "Epoch 1/30\n",
      "15924/15924 [==============================] - 34s 2ms/step - loss: 0.8557 - accuracy: 0.6036 - val_loss: 0.7916 - val_accuracy: 0.6220\n",
      "Epoch 2/30\n",
      "15924/15924 [==============================] - 30s 2ms/step - loss: 0.7791 - accuracy: 0.6517 - val_loss: 0.7342 - val_accuracy: 0.6743\n",
      "Epoch 3/30\n",
      "15924/15924 [==============================] - 31s 2ms/step - loss: 0.7391 - accuracy: 0.6705 - val_loss: 0.7317 - val_accuracy: 0.6725\n",
      "Epoch 4/30\n",
      "15924/15924 [==============================] - 30s 2ms/step - loss: 0.7004 - accuracy: 0.6913 - val_loss: 0.7004 - val_accuracy: 0.6969\n",
      "Epoch 5/30\n",
      "15924/15924 [==============================] - 31s 2ms/step - loss: 0.6652 - accuracy: 0.7131 - val_loss: 0.6850 - val_accuracy: 0.6979\n",
      "Epoch 6/30\n",
      "15924/15924 [==============================] - 30s 2ms/step - loss: 0.6315 - accuracy: 0.7302 - val_loss: 0.6807 - val_accuracy: 0.7107\n",
      "Epoch 7/30\n",
      "15924/15924 [==============================] - 31s 2ms/step - loss: 0.5966 - accuracy: 0.7447 - val_loss: 0.6807 - val_accuracy: 0.7165\n",
      "Epoch 8/30\n",
      "15924/15924 [==============================] - 30s 2ms/step - loss: 0.5631 - accuracy: 0.7599 - val_loss: 0.6683 - val_accuracy: 0.7180\n",
      "Epoch 9/30\n",
      "15924/15924 [==============================] - 30s 2ms/step - loss: 0.5260 - accuracy: 0.7795 - val_loss: 0.6801 - val_accuracy: 0.7235\n",
      "Epoch 10/30\n",
      "15924/15924 [==============================] - 31s 2ms/step - loss: 0.4956 - accuracy: 0.7928 - val_loss: 0.6742 - val_accuracy: 0.7283\n",
      "Epoch 11/30\n",
      "15924/15924 [==============================] - 31s 2ms/step - loss: 0.4579 - accuracy: 0.8098 - val_loss: 0.6758 - val_accuracy: 0.7320\n",
      "Epoch 12/30\n",
      "15924/15924 [==============================] - 31s 2ms/step - loss: 0.4273 - accuracy: 0.8252 - val_loss: 0.6649 - val_accuracy: 0.7358\n",
      "Epoch 13/30\n",
      "15924/15924 [==============================] - 31s 2ms/step - loss: 0.3984 - accuracy: 0.8414 - val_loss: 0.6788 - val_accuracy: 0.7323\n",
      "Epoch 14/30\n",
      "15924/15924 [==============================] - 31s 2ms/step - loss: 0.3726 - accuracy: 0.8471 - val_loss: 0.7217 - val_accuracy: 0.7320\n",
      "Epoch 15/30\n",
      "15924/15924 [==============================] - 31s 2ms/step - loss: 0.3523 - accuracy: 0.8562 - val_loss: 0.6946 - val_accuracy: 0.7348\n",
      "Epoch 16/30\n",
      "15924/15924 [==============================] - 31s 2ms/step - loss: 0.3249 - accuracy: 0.8676 - val_loss: 0.7367 - val_accuracy: 0.7325\n",
      "Epoch 17/30\n",
      "15924/15924 [==============================] - 32s 2ms/step - loss: 0.3197 - accuracy: 0.8714 - val_loss: 0.7266 - val_accuracy: 0.7451\n",
      "Epoch 18/30\n",
      "15924/15924 [==============================] - 32s 2ms/step - loss: 0.2876 - accuracy: 0.8855 - val_loss: 0.7743 - val_accuracy: 0.7416\n",
      "Epoch 19/30\n",
      "15924/15924 [==============================] - 31s 2ms/step - loss: 0.2836 - accuracy: 0.8855 - val_loss: 0.7322 - val_accuracy: 0.7361\n",
      "Epoch 20/30\n",
      "15924/15924 [==============================] - 31s 2ms/step - loss: 0.2627 - accuracy: 0.8978 - val_loss: 0.8084 - val_accuracy: 0.7411\n",
      "Epoch 21/30\n",
      "15924/15924 [==============================] - 31s 2ms/step - loss: 0.2513 - accuracy: 0.8996 - val_loss: 0.7922 - val_accuracy: 0.7411\n",
      "Epoch 22/30\n",
      "15924/15924 [==============================] - 32s 2ms/step - loss: 0.2438 - accuracy: 0.9023 - val_loss: 0.8647 - val_accuracy: 0.7313\n",
      "Epoch 23/30\n",
      "15924/15924 [==============================] - 31s 2ms/step - loss: 0.2280 - accuracy: 0.9099 - val_loss: 0.8446 - val_accuracy: 0.7428\n",
      "Epoch 24/30\n",
      "15924/15924 [==============================] - 32s 2ms/step - loss: 0.2255 - accuracy: 0.9095 - val_loss: 0.8560 - val_accuracy: 0.7466\n",
      "Epoch 25/30\n",
      "15924/15924 [==============================] - 32s 2ms/step - loss: 0.2088 - accuracy: 0.9195 - val_loss: 0.9067 - val_accuracy: 0.7401\n",
      "Epoch 26/30\n",
      "15924/15924 [==============================] - 32s 2ms/step - loss: 0.2082 - accuracy: 0.9172 - val_loss: 0.8961 - val_accuracy: 0.7368\n",
      "Epoch 27/30\n",
      "15924/15924 [==============================] - 32s 2ms/step - loss: 0.1989 - accuracy: 0.9188 - val_loss: 0.9776 - val_accuracy: 0.7401\n",
      "Epoch 28/30\n",
      "15924/15924 [==============================] - 32s 2ms/step - loss: 0.1978 - accuracy: 0.9240 - val_loss: 0.9216 - val_accuracy: 0.7428\n",
      "Epoch 29/30\n",
      "15924/15924 [==============================] - 32s 2ms/step - loss: 0.1997 - accuracy: 0.9202 - val_loss: 0.9466 - val_accuracy: 0.7373\n",
      "Epoch 30/30\n",
      "15924/15924 [==============================] - 32s 2ms/step - loss: 0.1865 - accuracy: 0.9292 - val_loss: 0.9615 - val_accuracy: 0.7366\n"
     ]
    },
    {
     "data": {
      "text/plain": [
       "<keras.callbacks.callbacks.History at 0x7f186054ef28>"
      ]
     },
     "execution_count": 37,
     "metadata": {},
     "output_type": "execute_result"
    }
   ],
   "source": [
    "X_train, X_test, y_train, y_test = train_test_split(X, y, random_state=42, test_size=0.2)\n",
    "model.fit(X_train, y_train, epochs=30, validation_data=(X_test, y_test))"
   ]
  },
  {
   "cell_type": "code",
   "execution_count": 39,
   "metadata": {},
   "outputs": [],
   "source": [
    "df_test = pd.read_csv('test_age/test.csv')"
   ]
  },
  {
   "cell_type": "code",
   "execution_count": 40,
   "metadata": {},
   "outputs": [
    {
     "name": "stderr",
     "output_type": "stream",
     "text": [
      "  0%|          | 0/6636 [00:00<?, ?it/s]/home/harish/my_project_dir/my_project_env/lib/python3.7/site-packages/keras_preprocessing/image/utils.py:104: UserWarning: grayscale is deprecated. Please use color_mode = \"grayscale\"\n",
      "  warnings.warn('grayscale is deprecated. Please use '\n",
      "100%|██████████| 6636/6636 [01:07<00:00, 98.56it/s] \n"
     ]
    }
   ],
   "source": [
    "test_image = []\n",
    "for i in tqdm(range(df_test.shape[0])):\n",
    "  img  = image.load_img('test_age/Test/' + df_test['ID'][i] , target_size = (28,28,1),grayscale=True)\n",
    "  img = image.img_to_array(img)\n",
    "  img = img/255\n",
    "  test_image.append(img)\n",
    "\n",
    "X1 = np.array(test_image)"
   ]
  },
  {
   "cell_type": "code",
   "execution_count": 41,
   "metadata": {},
   "outputs": [],
   "source": [
    "pred = model.predict_classes(X1)"
   ]
  },
  {
   "cell_type": "code",
   "execution_count": 42,
   "metadata": {},
   "outputs": [],
   "source": [
    "prediction = pred.tolist()"
   ]
  },
  {
   "cell_type": "code",
   "execution_count": 49,
   "metadata": {},
   "outputs": [],
   "source": [
    "df_test['Prediction'] = prediction\n",
    "\n",
    "df_test['Prediction'] = df_test['Prediction'].astype(str)"
   ]
  },
  {
   "cell_type": "code",
   "execution_count": 52,
   "metadata": {},
   "outputs": [
    {
     "data": {
      "text/html": [
       "<div>\n",
       "<style scoped>\n",
       "    .dataframe tbody tr th:only-of-type {\n",
       "        vertical-align: middle;\n",
       "    }\n",
       "\n",
       "    .dataframe tbody tr th {\n",
       "        vertical-align: top;\n",
       "    }\n",
       "\n",
       "    .dataframe thead th {\n",
       "        text-align: right;\n",
       "    }\n",
       "</style>\n",
       "<table border=\"1\" class=\"dataframe\">\n",
       "  <thead>\n",
       "    <tr style=\"text-align: right;\">\n",
       "      <th></th>\n",
       "      <th>ID</th>\n",
       "      <th>Class</th>\n",
       "      <th>Images_id</th>\n",
       "    </tr>\n",
       "  </thead>\n",
       "  <tbody>\n",
       "    <tr>\n",
       "      <th>0</th>\n",
       "      <td>377.jpg</td>\n",
       "      <td>0</td>\n",
       "      <td>[[[0.18039216101169586], [0.1568627506494522],...</td>\n",
       "    </tr>\n",
       "    <tr>\n",
       "      <th>1</th>\n",
       "      <td>17814.jpg</td>\n",
       "      <td>2</td>\n",
       "      <td>[[[0.1411764770746231], [0.1411764770746231], ...</td>\n",
       "    </tr>\n",
       "    <tr>\n",
       "      <th>2</th>\n",
       "      <td>21283.jpg</td>\n",
       "      <td>0</td>\n",
       "      <td>[[[0.15294118225574493], [0.16470588743686676]...</td>\n",
       "    </tr>\n",
       "    <tr>\n",
       "      <th>3</th>\n",
       "      <td>16496.jpg</td>\n",
       "      <td>2</td>\n",
       "      <td>[[[0.08235294371843338], [0.08235294371843338]...</td>\n",
       "    </tr>\n",
       "    <tr>\n",
       "      <th>4</th>\n",
       "      <td>4487.jpg</td>\n",
       "      <td>0</td>\n",
       "      <td>[[[0.0784313753247261], [0.062745101749897], [...</td>\n",
       "    </tr>\n",
       "    <tr>\n",
       "      <th>...</th>\n",
       "      <td>...</td>\n",
       "      <td>...</td>\n",
       "      <td>...</td>\n",
       "    </tr>\n",
       "    <tr>\n",
       "      <th>19901</th>\n",
       "      <td>2482.jpg</td>\n",
       "      <td>0</td>\n",
       "      <td>[[[0.03921568766236305], [0.003921568859368563...</td>\n",
       "    </tr>\n",
       "    <tr>\n",
       "      <th>19902</th>\n",
       "      <td>20085.jpg</td>\n",
       "      <td>2</td>\n",
       "      <td>[[[0.03529411926865578], [0.0470588244497776],...</td>\n",
       "    </tr>\n",
       "    <tr>\n",
       "      <th>19903</th>\n",
       "      <td>19663.jpg</td>\n",
       "      <td>0</td>\n",
       "      <td>[[[0.08627451211214066], [0.08627451211214066]...</td>\n",
       "    </tr>\n",
       "    <tr>\n",
       "      <th>19904</th>\n",
       "      <td>10132.jpg</td>\n",
       "      <td>0</td>\n",
       "      <td>[[[0.07450980693101883], [0.06666667014360428]...</td>\n",
       "    </tr>\n",
       "    <tr>\n",
       "      <th>19905</th>\n",
       "      <td>9896.jpg</td>\n",
       "      <td>0</td>\n",
       "      <td>[[[0.5686274766921997], [0.5882353186607361], ...</td>\n",
       "    </tr>\n",
       "  </tbody>\n",
       "</table>\n",
       "<p>19906 rows × 3 columns</p>\n",
       "</div>"
      ],
      "text/plain": [
       "              ID  Class                                          Images_id\n",
       "0        377.jpg      0  [[[0.18039216101169586], [0.1568627506494522],...\n",
       "1      17814.jpg      2  [[[0.1411764770746231], [0.1411764770746231], ...\n",
       "2      21283.jpg      0  [[[0.15294118225574493], [0.16470588743686676]...\n",
       "3      16496.jpg      2  [[[0.08235294371843338], [0.08235294371843338]...\n",
       "4       4487.jpg      0  [[[0.0784313753247261], [0.062745101749897], [...\n",
       "...          ...    ...                                                ...\n",
       "19901   2482.jpg      0  [[[0.03921568766236305], [0.003921568859368563...\n",
       "19902  20085.jpg      2  [[[0.03529411926865578], [0.0470588244497776],...\n",
       "19903  19663.jpg      0  [[[0.08627451211214066], [0.08627451211214066]...\n",
       "19904  10132.jpg      0  [[[0.07450980693101883], [0.06666667014360428]...\n",
       "19905   9896.jpg      0  [[[0.5686274766921997], [0.5882353186607361], ...\n",
       "\n",
       "[19906 rows x 3 columns]"
      ]
     },
     "execution_count": 52,
     "metadata": {},
     "output_type": "execute_result"
    }
   ],
   "source": [
    "df_train"
   ]
  },
  {
   "cell_type": "code",
   "execution_count": 54,
   "metadata": {},
   "outputs": [],
   "source": [
    "df_test['Prediction'] = df_test['Prediction'].replace(to_replace =\"0\", \n",
    "                 value =\"MIDDLE\") \n",
    "df_test['Prediction'] = df_test['Prediction'].replace(to_replace =\"1\", \n",
    "                 value =\"OLD\") \n",
    "df_test['Prediction'] = df_test['Prediction'].replace(to_replace =\"2\", \n",
    "                 value =\"YOUNG\") \n"
   ]
  },
  {
   "cell_type": "code",
   "execution_count": 55,
   "metadata": {},
   "outputs": [
    {
     "data": {
      "text/html": [
       "<div>\n",
       "<style scoped>\n",
       "    .dataframe tbody tr th:only-of-type {\n",
       "        vertical-align: middle;\n",
       "    }\n",
       "\n",
       "    .dataframe tbody tr th {\n",
       "        vertical-align: top;\n",
       "    }\n",
       "\n",
       "    .dataframe thead th {\n",
       "        text-align: right;\n",
       "    }\n",
       "</style>\n",
       "<table border=\"1\" class=\"dataframe\">\n",
       "  <thead>\n",
       "    <tr style=\"text-align: right;\">\n",
       "      <th></th>\n",
       "      <th>ID</th>\n",
       "      <th>Prediction</th>\n",
       "    </tr>\n",
       "  </thead>\n",
       "  <tbody>\n",
       "    <tr>\n",
       "      <th>0</th>\n",
       "      <td>25321.jpg</td>\n",
       "      <td>MIDDLE</td>\n",
       "    </tr>\n",
       "    <tr>\n",
       "      <th>1</th>\n",
       "      <td>989.jpg</td>\n",
       "      <td>YOUNG</td>\n",
       "    </tr>\n",
       "    <tr>\n",
       "      <th>2</th>\n",
       "      <td>19277.jpg</td>\n",
       "      <td>OLD</td>\n",
       "    </tr>\n",
       "    <tr>\n",
       "      <th>3</th>\n",
       "      <td>13093.jpg</td>\n",
       "      <td>YOUNG</td>\n",
       "    </tr>\n",
       "    <tr>\n",
       "      <th>4</th>\n",
       "      <td>5367.jpg</td>\n",
       "      <td>MIDDLE</td>\n",
       "    </tr>\n",
       "    <tr>\n",
       "      <th>...</th>\n",
       "      <td>...</td>\n",
       "      <td>...</td>\n",
       "    </tr>\n",
       "    <tr>\n",
       "      <th>6631</th>\n",
       "      <td>1876.jpg</td>\n",
       "      <td>OLD</td>\n",
       "    </tr>\n",
       "    <tr>\n",
       "      <th>6632</th>\n",
       "      <td>14940.jpg</td>\n",
       "      <td>MIDDLE</td>\n",
       "    </tr>\n",
       "    <tr>\n",
       "      <th>6633</th>\n",
       "      <td>3638.jpg</td>\n",
       "      <td>MIDDLE</td>\n",
       "    </tr>\n",
       "    <tr>\n",
       "      <th>6634</th>\n",
       "      <td>376.jpg</td>\n",
       "      <td>MIDDLE</td>\n",
       "    </tr>\n",
       "    <tr>\n",
       "      <th>6635</th>\n",
       "      <td>9357.jpg</td>\n",
       "      <td>YOUNG</td>\n",
       "    </tr>\n",
       "  </tbody>\n",
       "</table>\n",
       "<p>6636 rows × 2 columns</p>\n",
       "</div>"
      ],
      "text/plain": [
       "             ID Prediction\n",
       "0     25321.jpg     MIDDLE\n",
       "1       989.jpg      YOUNG\n",
       "2     19277.jpg        OLD\n",
       "3     13093.jpg      YOUNG\n",
       "4      5367.jpg     MIDDLE\n",
       "...         ...        ...\n",
       "6631   1876.jpg        OLD\n",
       "6632  14940.jpg     MIDDLE\n",
       "6633   3638.jpg     MIDDLE\n",
       "6634    376.jpg     MIDDLE\n",
       "6635   9357.jpg      YOUNG\n",
       "\n",
       "[6636 rows x 2 columns]"
      ]
     },
     "execution_count": 55,
     "metadata": {},
     "output_type": "execute_result"
    }
   ],
   "source": [
    "df_test"
   ]
  },
  {
   "cell_type": "code",
   "execution_count": 57,
   "metadata": {},
   "outputs": [],
   "source": [
    "df_sub['Class'] = df_test['Prediction']"
   ]
  },
  {
   "cell_type": "code",
   "execution_count": 58,
   "metadata": {},
   "outputs": [
    {
     "data": {
      "text/html": [
       "<div>\n",
       "<style scoped>\n",
       "    .dataframe tbody tr th:only-of-type {\n",
       "        vertical-align: middle;\n",
       "    }\n",
       "\n",
       "    .dataframe tbody tr th {\n",
       "        vertical-align: top;\n",
       "    }\n",
       "\n",
       "    .dataframe thead th {\n",
       "        text-align: right;\n",
       "    }\n",
       "</style>\n",
       "<table border=\"1\" class=\"dataframe\">\n",
       "  <thead>\n",
       "    <tr style=\"text-align: right;\">\n",
       "      <th></th>\n",
       "      <th>Class</th>\n",
       "      <th>ID</th>\n",
       "    </tr>\n",
       "  </thead>\n",
       "  <tbody>\n",
       "    <tr>\n",
       "      <th>0</th>\n",
       "      <td>MIDDLE</td>\n",
       "      <td>25321.jpg</td>\n",
       "    </tr>\n",
       "    <tr>\n",
       "      <th>1</th>\n",
       "      <td>YOUNG</td>\n",
       "      <td>989.jpg</td>\n",
       "    </tr>\n",
       "    <tr>\n",
       "      <th>2</th>\n",
       "      <td>OLD</td>\n",
       "      <td>19277.jpg</td>\n",
       "    </tr>\n",
       "    <tr>\n",
       "      <th>3</th>\n",
       "      <td>YOUNG</td>\n",
       "      <td>13093.jpg</td>\n",
       "    </tr>\n",
       "    <tr>\n",
       "      <th>4</th>\n",
       "      <td>MIDDLE</td>\n",
       "      <td>5367.jpg</td>\n",
       "    </tr>\n",
       "    <tr>\n",
       "      <th>...</th>\n",
       "      <td>...</td>\n",
       "      <td>...</td>\n",
       "    </tr>\n",
       "    <tr>\n",
       "      <th>6631</th>\n",
       "      <td>OLD</td>\n",
       "      <td>1876.jpg</td>\n",
       "    </tr>\n",
       "    <tr>\n",
       "      <th>6632</th>\n",
       "      <td>MIDDLE</td>\n",
       "      <td>14940.jpg</td>\n",
       "    </tr>\n",
       "    <tr>\n",
       "      <th>6633</th>\n",
       "      <td>MIDDLE</td>\n",
       "      <td>3638.jpg</td>\n",
       "    </tr>\n",
       "    <tr>\n",
       "      <th>6634</th>\n",
       "      <td>MIDDLE</td>\n",
       "      <td>376.jpg</td>\n",
       "    </tr>\n",
       "    <tr>\n",
       "      <th>6635</th>\n",
       "      <td>YOUNG</td>\n",
       "      <td>9357.jpg</td>\n",
       "    </tr>\n",
       "  </tbody>\n",
       "</table>\n",
       "<p>6636 rows × 2 columns</p>\n",
       "</div>"
      ],
      "text/plain": [
       "       Class         ID\n",
       "0     MIDDLE  25321.jpg\n",
       "1      YOUNG    989.jpg\n",
       "2        OLD  19277.jpg\n",
       "3      YOUNG  13093.jpg\n",
       "4     MIDDLE   5367.jpg\n",
       "...      ...        ...\n",
       "6631     OLD   1876.jpg\n",
       "6632  MIDDLE  14940.jpg\n",
       "6633  MIDDLE   3638.jpg\n",
       "6634  MIDDLE    376.jpg\n",
       "6635   YOUNG   9357.jpg\n",
       "\n",
       "[6636 rows x 2 columns]"
      ]
     },
     "execution_count": 58,
     "metadata": {},
     "output_type": "execute_result"
    }
   ],
   "source": [
    "df_sub"
   ]
  },
  {
   "cell_type": "code",
   "execution_count": 59,
   "metadata": {},
   "outputs": [],
   "source": [
    "df_sub.to_csv('result_age',index = False)"
   ]
  },
  {
   "cell_type": "code",
   "execution_count": null,
   "metadata": {},
   "outputs": [],
   "source": []
  }
 ],
 "metadata": {
  "kernelspec": {
   "display_name": "Python 3",
   "language": "python",
   "name": "python3"
  },
  "language_info": {
   "codemirror_mode": {
    "name": "ipython",
    "version": 3
   },
   "file_extension": ".py",
   "mimetype": "text/x-python",
   "name": "python",
   "nbconvert_exporter": "python",
   "pygments_lexer": "ipython3",
   "version": "3.7.3"
  }
 },
 "nbformat": 4,
 "nbformat_minor": 4
}
